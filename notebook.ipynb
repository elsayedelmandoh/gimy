{
 "cells": [
  {
   "cell_type": "markdown",
   "metadata": {},
   "source": [
    "# Instagram reels transcribe summarizers app"
   ]
  },
  {
   "cell_type": "markdown",
   "metadata": {},
   "source": [
    "# Data Acquisition\n",
    "\n",
    "Instagram doesn't offer a public API for accessing Reels directly"
   ]
  },
  {
   "cell_type": "markdown",
   "metadata": {},
   "source": [
    "Web Scraping\n",
    "\n",
    "using library `Beautiful Soup` (Python) for extract Reels data from the Instagram website."
   ]
  },
  {
   "cell_type": "markdown",
   "metadata": {},
   "source": [
    "way 1"
   ]
  },
  {
   "cell_type": "code",
   "execution_count": 52,
   "metadata": {},
   "outputs": [],
   "source": [
    "# from bs4 import BeautifulSoup\n",
    "# import requests\n",
    "# import json\n",
    "\n",
    "# def scrape_instagram_reels(username):\n",
    "#     URL = \"https://www.instagram.com/\" + username\n",
    "#     page = requests.get(URL)\n",
    "#     soup = BeautifulSoup(page.content, 'html.parser')\n",
    "    \n",
    "#     script = soup.find('script', text=lambda t: t and t.startswith('window._sharedData'))\n",
    "#     if script is None:\n",
    "#         print(\"Script tag not found\")\n",
    "#     else:\n",
    "#         page_json = script.string.split(' = ', 1)[1].rstrip(';')\n",
    "#         data = json.loads(page_json)\n",
    "    \n",
    "#     reels_data = data['entry_data']['ProfilePage'][0]['graphql']['user']['edge_felix_video_timeline']['edges']\n",
    "    \n",
    "#     reels = []\n",
    "#     for reel in reels_data:\n",
    "#         reels.append({\n",
    "#             'id': reel['node']['id'],\n",
    "#             'shortcode': reel['node']['shortcode'],\n",
    "#             'video_url': reel['node']['video_url'],\n",
    "#             'caption': reel['node']['edge_media_to_caption']['edges'][0]['node']['text'] if reel['node']['edge_media_to_caption']['edges'] else ''\n",
    "#         })\n",
    "    \n",
    "#     return reels\n",
    "\n",
    "# # https://www.instagram.com/elsayed.elmandoh/\n",
    "# reels = scrape_instagram_reels('elsayed.elmandoh')\n",
    "# for reel in reels:\n",
    "#     print(reel)"
   ]
  },
  {
   "cell_type": "markdown",
   "metadata": {},
   "source": [
    "way 2"
   ]
  },
  {
   "cell_type": "markdown",
   "metadata": {},
   "source": [
    "[video](https://www.youtube.com/watch?v=h1rGC3oCX_I)"
   ]
  },
  {
   "cell_type": "markdown",
   "metadata": {},
   "source": [
    "pip install insta-scrape"
   ]
  },
  {
   "cell_type": "code",
   "execution_count": 53,
   "metadata": {},
   "outputs": [],
   "source": [
    "# from instascrape import Reel\n",
    "# import time"
   ]
  },
  {
   "cell_type": "code",
   "execution_count": 54,
   "metadata": {},
   "outputs": [],
   "source": [
    "# def download_reel(session_id, reel_link):\n",
    "#     \"\"\"This code will download the reel for sure, but not if you continue to make the request again and again, and hence, you need to pass the session id. Recently, due to updated policies of Instagram, it is not that easy to scrape it. Hence with the above code, we need to pass the session id into the headers as follows:\n",
    "#         SessionID changes every time when you log out. Make sure that you provide the id at the time when you are logged in.\n",
    "#         fstring Format = convenient way to embed python expressions inside string literals for formatting. \n",
    "        \n",
    "#     Args:\n",
    "#         session_id (int): session id of account\n",
    "#         reel_link (str): link of reel to download \n",
    "#     \"\"\"\n",
    "#     headers = {\n",
    "#         \"User-Agent\": \"Mozilla/5.0 (Windows NT 10.0; Win64; x64) AppleWebKit/537.36 (KHTML, like Gecko) Chrome/79.0.3945.74 Safari/537.36 Edg/79.0.309.43\",\n",
    "# \"cookie\":f'sessionid={session_id};'\n",
    "#     }\n",
    "\n",
    "#     reel = Reel(reel_link)\n",
    "#     reel.scrape(headers=headers)\n",
    "\n",
    "#     reel.download(fp=f\".//Desktop//reel{int(time.time())}.mp4\")\n",
    "#     print('Downloaded Successfully.')\n",
    "    \n",
    "# session_id = \"18eedec1299-972f04\"\n",
    "# reel_link = \"https://www.instagram.com/reel/C5eziZ9o7jq/?utm_source=ig_web_copy_link&igsh=MzRlODBiNWFlZA==\"\n",
    "# download_reel(session_id, reel_link)"
   ]
  },
  {
   "cell_type": "markdown",
   "metadata": {},
   "source": [
    "way 3"
   ]
  },
  {
   "cell_type": "markdown",
   "metadata": {},
   "source": [
    "pip install instaloader"
   ]
  },
  {
   "cell_type": "code",
   "execution_count": 55,
   "metadata": {},
   "outputs": [],
   "source": [
    "# import instaloader\n",
    "# # from instaloader.context import SessionFileContext"
   ]
  },
  {
   "cell_type": "code",
   "execution_count": 56,
   "metadata": {},
   "outputs": [],
   "source": [
    "# def download_reels(username, session_id):\n",
    "#     L = instaloader.Instaloader()\n",
    "\n",
    "#     # Set session ID in headers\n",
    "#     headers = {\n",
    "#         \"User-Agent\": \"Mozilla/5.0 (Windows NT 10.0; Win64; x64) AppleWebKit/537.36 (KHTML, like Gecko) Chrome/79.0.3945.74 Safari/537.36 Edg/79.0.309.43\",\n",
    "#         \"cookie\": f'sessionid={session_id};'\n",
    "#     }\n",
    "\n",
    "#     try:\n",
    "#         profile = instaloader.Profile.from_username(L.context, username)\n",
    "#         print(f\"Downloading reels from profile {username}.\")\n",
    "#         count = 0\n",
    "#         for post in profile.get_posts():\n",
    "#             if post.is_video and post.typename == 'Reel':\n",
    "#                 L.download_post(post, target=':reels', headers=headers)\n",
    "#                 count += 1\n",
    "#         print(f\"Downloaded {count} reels.\")\n",
    "#     except instaloader.exceptions.ProfileNotExistsException:\n",
    "#         print(f\"Profile '{username}' does not exist.\")\n",
    "\n",
    "\n",
    "# download_reels('raniamoussa53', \"18eedec1299-972f04\")\n",
    "# print('Downloaded Successfully.')\n"
   ]
  },
  {
   "cell_type": "markdown",
   "metadata": {},
   "source": [
    "way 4"
   ]
  },
  {
   "cell_type": "code",
   "execution_count": null,
   "metadata": {},
   "outputs": [],
   "source": []
  },
  {
   "cell_type": "markdown",
   "metadata": {},
   "source": [
    "User-Uploaded Reels\n",
    "\n",
    "Allow users to upload their Reels directly to your app"
   ]
  },
  {
   "cell_type": "code",
   "execution_count": null,
   "metadata": {},
   "outputs": [],
   "source": []
  },
  {
   "cell_type": "markdown",
   "metadata": {},
   "source": [
    "# Speech Recognition"
   ]
  },
  {
   "cell_type": "markdown",
   "metadata": {},
   "source": [
    "APIs\n",
    "\n",
    "+ `Cloud-based speech recognition APIs` like \n",
    "    - Google Speech-to-Text \n",
    "    - Amazon Transcribe \n",
    "    \n",
    "can convert the audio from Reels into text transcripts."
   ]
  },
  {
   "cell_type": "code",
   "execution_count": null,
   "metadata": {},
   "outputs": [],
   "source": []
  },
  {
   "cell_type": "markdown",
   "metadata": {},
   "source": [
    "Libraries\n",
    "\n",
    "- SpeechRecognition (Python) can be used"
   ]
  },
  {
   "cell_type": "code",
   "execution_count": null,
   "metadata": {},
   "outputs": [],
   "source": []
  },
  {
   "cell_type": "markdown",
   "metadata": {},
   "source": [
    "# Text Summarization"
   ]
  },
  {
   "cell_type": "markdown",
   "metadata": {},
   "source": [
    "APIs\n",
    "\n",
    "+ `Cloud summarization APIs` like \n",
    "    - Google Cloud Natural Language or \n",
    "    - Amazon Comprehend \n",
    "    \n",
    "can summarize the transcribed text."
   ]
  },
  {
   "cell_type": "code",
   "execution_count": null,
   "metadata": {},
   "outputs": [],
   "source": []
  },
  {
   "cell_type": "markdown",
   "metadata": {},
   "source": [
    "Libraries\n",
    "\n",
    "- Gensim or \n",
    "- spaCy \n",
    "\n",
    "offer summarization functionalities.\n"
   ]
  },
  {
   "cell_type": "code",
   "execution_count": null,
   "metadata": {},
   "outputs": [],
   "source": []
  },
  {
   "cell_type": "markdown",
   "metadata": {},
   "source": [
    "# User Interface (UI)\n",
    "\n",
    "Design a user-friendly interface for users to interact with the app"
   ]
  },
  {
   "cell_type": "markdown",
   "metadata": {},
   "source": [
    "Select/upload Reels for processing"
   ]
  },
  {
   "cell_type": "code",
   "execution_count": null,
   "metadata": {},
   "outputs": [],
   "source": []
  },
  {
   "cell_type": "markdown",
   "metadata": {},
   "source": [
    "Display transcribed text"
   ]
  },
  {
   "cell_type": "code",
   "execution_count": null,
   "metadata": {},
   "outputs": [],
   "source": []
  },
  {
   "cell_type": "markdown",
   "metadata": {},
   "source": [
    "Present the summarized text"
   ]
  },
  {
   "cell_type": "code",
   "execution_count": null,
   "metadata": {},
   "outputs": [],
   "source": []
  },
  {
   "cell_type": "markdown",
   "metadata": {},
   "source": [
    "# Backend Development"
   ]
  },
  {
   "cell_type": "markdown",
   "metadata": {},
   "source": [
    "Handle data acquisition (API calls, user uploads)"
   ]
  },
  {
   "cell_type": "code",
   "execution_count": null,
   "metadata": {},
   "outputs": [],
   "source": []
  },
  {
   "cell_type": "markdown",
   "metadata": {},
   "source": [
    "Integrate with speech recognition and summarization services"
   ]
  },
  {
   "cell_type": "code",
   "execution_count": null,
   "metadata": {},
   "outputs": [],
   "source": []
  },
  {
   "cell_type": "markdown",
   "metadata": {},
   "source": [
    "Process and store transcripts and summaries"
   ]
  },
  {
   "cell_type": "code",
   "execution_count": null,
   "metadata": {},
   "outputs": [],
   "source": []
  },
  {
   "cell_type": "markdown",
   "metadata": {},
   "source": [
    "# Features work"
   ]
  },
  {
   "cell_type": "markdown",
   "metadata": {},
   "source": [
    "Language Support\n",
    "\n",
    "Identify the languages your app will handle and choose speech recognition and summarization services that support them."
   ]
  },
  {
   "cell_type": "code",
   "execution_count": null,
   "metadata": {},
   "outputs": [],
   "source": []
  }
 ],
 "metadata": {
  "kernelspec": {
   "display_name": "Python 3",
   "language": "python",
   "name": "python3"
  },
  "language_info": {
   "codemirror_mode": {
    "name": "ipython",
    "version": 3
   },
   "file_extension": ".py",
   "mimetype": "text/x-python",
   "name": "python",
   "nbconvert_exporter": "python",
   "pygments_lexer": "ipython3",
   "version": "3.11.4"
  }
 },
 "nbformat": 4,
 "nbformat_minor": 2
}
